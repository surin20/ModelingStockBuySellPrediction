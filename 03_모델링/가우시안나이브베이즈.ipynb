{
 "cells": [
  {
   "cell_type": "code",
   "execution_count": 1,
   "id": "f61a8bf7",
   "metadata": {},
   "outputs": [],
   "source": [
    "import pandas as pd\n",
    "import numpy as np\n",
    "import seaborn as sns\n",
    "import matplotlib.pyplot as plt\n",
    "import os\n",
    "if os.name != 'posix':\n",
    "    plt.rc(\"font\", family=\"Malgun Gothic\")\n",
    "from sklearn.model_selection import TimeSeriesSplit\n",
    "from sklearn.metrics import f1_score\n",
    "from sklearn.metrics import accuracy_score\n",
    "from sklearn.metrics import confusion_matrix\n",
    "import optuna\n",
    "from sklearn.naive_bayes import GaussianNB"
   ]
  },
  {
   "cell_type": "code",
   "execution_count": 2,
   "id": "d6bb3532",
   "metadata": {},
   "outputs": [],
   "source": [
    "sk_label=pd.read_csv('C:/Users/fiona/Desktop/SK_label.csv', encoding='UTF-8')"
   ]
  },
  {
   "cell_type": "code",
   "execution_count": 3,
   "id": "3ec38e8e",
   "metadata": {},
   "outputs": [
    {
     "data": {
      "text/plain": [
       "(1429, 40)"
      ]
     },
     "execution_count": 3,
     "metadata": {},
     "output_type": "execute_result"
    }
   ],
   "source": [
    "sk=sk_label.drop(['year','month','day','day1_label','day3_label','대비','코스피대비'],axis=1)\n",
    "sk.shape"
   ]
  },
  {
   "cell_type": "code",
   "execution_count": 4,
   "id": "4df8e5d5",
   "metadata": {},
   "outputs": [],
   "source": [
    "label=pd.DataFrame()\n",
    "label['encoding'] = sk_label['3일 등락률'].apply(lambda x: 1 if abs(x) < 5 else 0 if x >= 5 else 2)"
   ]
  },
  {
   "cell_type": "code",
   "execution_count": 5,
   "id": "41de1909",
   "metadata": {},
   "outputs": [],
   "source": [
    "sk1=sk.shift(1)\n",
    "df=pd.concat([sk1,label],axis=1)\n",
    "df=df.drop(0,axis=0)\n",
    "df=df.reset_index(drop=True)"
   ]
  },
  {
   "cell_type": "code",
   "execution_count": 6,
   "id": "c84783f1",
   "metadata": {},
   "outputs": [],
   "source": [
    "x=df.drop(['날짜','등락률','3일 등락률','encoding'],axis=1)\n",
    "y=df.encoding"
   ]
  },
  {
   "cell_type": "code",
   "execution_count": 7,
   "id": "95c950f9",
   "metadata": {},
   "outputs": [
    {
     "name": "stdout",
     "output_type": "stream",
     "text": [
      "매수 encoding 갯수 :  155\n",
      "유지 encoding 갯수 :  1167\n",
      "매도 encoding 갯수 :  107\n"
     ]
    }
   ],
   "source": [
    "print('매수 encoding 갯수 : ' ,(label['encoding']==0).sum())\n",
    "print('유지 encoding 갯수 : ' ,(label['encoding']==1).sum())\n",
    "print('매도 encoding 갯수 : ' ,(label['encoding']==2).sum())"
   ]
  },
  {
   "cell_type": "code",
   "execution_count": null,
   "id": "8f891bce",
   "metadata": {},
   "outputs": [],
   "source": [
    "#0.11\n",
    "#0.82\n",
    "#0.07"
   ]
  },
  {
   "cell_type": "code",
   "execution_count": 8,
   "id": "c3fe35f5",
   "metadata": {},
   "outputs": [
    {
     "name": "stdout",
     "output_type": "stream",
     "text": [
      "Fold 1 - Accuracy: 0.7508207571156246\n",
      "Fold 2 - Accuracy: 0.7528870922891057\n",
      "Fold 3 - Accuracy: 0.6183696001977355\n",
      "Fold 4 - Accuracy: 0.7513780999041498\n",
      "Fold 5 - Accuracy: 0.7588275567334276\n"
     ]
    }
   ],
   "source": [
    "tscv=TimeSeriesSplit()\n",
    "TimeSeriesSplit(n_splits=5)\n",
    "\n",
    "for i, (train_index, test_index) in enumerate(tscv.split(x)):\n",
    "    x_train, y_train=x.iloc[train_index],y.iloc[train_index]\n",
    "    x_test, y_test=x.iloc[test_index],y.iloc[test_index]\n",
    "    \n",
    "    gnb=GaussianNB(priors=[11/100,82/100,7/100])\n",
    "    fitted=gnb.fit(x_train,y_train)\n",
    "\n",
    "    y_pred = fitted.predict(x_test)\n",
    "    print(f\"Fold {i+1} - Accuracy: {f1_score(y_test, y_pred,average='weighted')}\")"
   ]
  },
  {
   "cell_type": "code",
   "execution_count": 9,
   "id": "aac64bc9",
   "metadata": {},
   "outputs": [
    {
     "data": {
      "text/plain": [
       "array([[  4,  23,   0],\n",
       "       [  0, 189,   3],\n",
       "       [  0,  18,   1]], dtype=int64)"
      ]
     },
     "execution_count": 9,
     "metadata": {},
     "output_type": "execute_result"
    }
   ],
   "source": [
    "confusion_matrix(y_test,y_pred)"
   ]
  }
 ],
 "metadata": {
  "kernelspec": {
   "display_name": "Python 3 (ipykernel)",
   "language": "python",
   "name": "python3"
  },
  "language_info": {
   "codemirror_mode": {
    "name": "ipython",
    "version": 3
   },
   "file_extension": ".py",
   "mimetype": "text/x-python",
   "name": "python",
   "nbconvert_exporter": "python",
   "pygments_lexer": "ipython3",
   "version": "3.9.13"
  }
 },
 "nbformat": 4,
 "nbformat_minor": 5
}
